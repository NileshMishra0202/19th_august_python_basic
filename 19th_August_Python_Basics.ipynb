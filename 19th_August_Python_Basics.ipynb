{
 "cells": [
  {
   "cell_type": "code",
   "execution_count": 1,
   "id": "c3208358-0854-49b6-9170-cfaf32975710",
   "metadata": {},
   "outputs": [],
   "source": [
    "#Question 1 "
   ]
  },
  {
   "cell_type": "code",
   "execution_count": 2,
   "id": "000a44f9-8254-4225-b11e-679a73be88d3",
   "metadata": {},
   "outputs": [],
   "source": [
    "x=20\n",
    "y=10"
   ]
  },
  {
   "cell_type": "code",
   "execution_count": 3,
   "id": "e81e02b7-dcc2-4ee4-bedd-04f8dee82d09",
   "metadata": {},
   "outputs": [],
   "source": [
    "# x now becomes 30\n",
    "\n",
    "x=x+y"
   ]
  },
  {
   "cell_type": "code",
   "execution_count": 4,
   "id": "560b9a04-a8d3-4283-939a-91e9f0e518ee",
   "metadata": {},
   "outputs": [],
   "source": [
    "# y now becomes 10\n",
    "\n",
    "y=x-y"
   ]
  },
  {
   "cell_type": "code",
   "execution_count": 5,
   "id": "084efc0a-6aa5-4309-989b-812d0a21baf1",
   "metadata": {},
   "outputs": [],
   "source": [
    "x=x-y"
   ]
  },
  {
   "cell_type": "code",
   "execution_count": 6,
   "id": "3ae1635b-0fe4-4102-8352-248f7e98d5c8",
   "metadata": {},
   "outputs": [
    {
     "name": "stdout",
     "output_type": "stream",
     "text": [
      "After swapping x= 10 y= 20\n"
     ]
    }
   ],
   "source": [
    "print(\"After swapping x=\",x,\"y=\",y)"
   ]
  },
  {
   "cell_type": "code",
   "execution_count": 7,
   "id": "37917ba0-4ee5-4808-bde8-0538a50ebd52",
   "metadata": {},
   "outputs": [],
   "source": [
    "# Answer of question 1 done."
   ]
  },
  {
   "cell_type": "code",
   "execution_count": 8,
   "id": "6cedae7f-5843-4097-a055-e53868cbb681",
   "metadata": {},
   "outputs": [],
   "source": [
    "#Question 2"
   ]
  },
  {
   "cell_type": "code",
   "execution_count": 22,
   "id": "c23daa6f-6f85-4147-aa89-838cd3de5b90",
   "metadata": {},
   "outputs": [
    {
     "name": "stdin",
     "output_type": "stream",
     "text": [
      " 12\n",
      " 8\n"
     ]
    },
    {
     "name": "stdout",
     "output_type": "stream",
     "text": [
      "Area of rectangle= 96\n"
     ]
    }
   ],
   "source": [
    "# Area of rectangular is lenght*width,we will take l for length and w for width\n",
    "\n",
    "l=input()\n",
    "w=input()\n",
    "print(\"Area of rectangle=\",int(l)*int(w))"
   ]
  },
  {
   "cell_type": "code",
   "execution_count": 18,
   "id": "30fec8fc-450f-4241-aaf6-319fc7b4d0ec",
   "metadata": {},
   "outputs": [],
   "source": [
    "# Answer of question 2 done."
   ]
  },
  {
   "cell_type": "code",
   "execution_count": 38,
   "id": "347a1842-0081-4e8c-b913-53cf2d6c88cb",
   "metadata": {},
   "outputs": [],
   "source": [
    "#Question 3"
   ]
  },
  {
   "cell_type": "code",
   "execution_count": 43,
   "id": "6b8e8ade-e1cc-417f-9f81-82f9e8ecefb2",
   "metadata": {},
   "outputs": [
    {
     "name": "stdin",
     "output_type": "stream",
     "text": [
      "enter tempearture in celsius:  42\n"
     ]
    },
    {
     "name": "stdout",
     "output_type": "stream",
     "text": [
      "Temperatur in fahrenheit = 107.60000000000001\n"
     ]
    }
   ],
   "source": [
    "celsius= float(input(\"enter tempearture in celsius: \"))\n",
    "fahrenheit = (celsius * 1.8 ) + 32\n",
    "\n",
    "print(\"Temperatur in fahrenheit =\",fahrenheit)"
   ]
  },
  {
   "cell_type": "code",
   "execution_count": 44,
   "id": "1e054c91-caa6-45a1-b02f-1b70a7327020",
   "metadata": {},
   "outputs": [],
   "source": [
    "# String Based Answers"
   ]
  },
  {
   "cell_type": "code",
   "execution_count": 52,
   "id": "421c9d62-a556-45e9-8a0e-cf484ec63581",
   "metadata": {},
   "outputs": [
    {
     "name": "stdin",
     "output_type": "stream",
     "text": [
      " nilesh\n"
     ]
    },
    {
     "name": "stdout",
     "output_type": "stream",
     "text": [
      "lenght of string is 6\n"
     ]
    }
   ],
   "source": [
    "#Question 1: Write a Python program that takes a string as input and prints the length of the string.\n",
    "\n",
    "string=input()\n",
    "lenght=len(string)\n",
    "print('lenght of string is',lenght)"
   ]
  },
  {
   "cell_type": "code",
   "execution_count": 56,
   "id": "233b719b-8862-4450-81be-b839e589a19b",
   "metadata": {},
   "outputs": [
    {
     "name": "stdin",
     "output_type": "stream",
     "text": [
      " my name is nilesh\n"
     ]
    },
    {
     "name": "stdout",
     "output_type": "stream",
     "text": [
      "5\n"
     ]
    }
   ],
   "source": [
    "'''question 2: Create a program that takes\n",
    "a sentence from the user\n",
    "and counts the number of vowels'''\n",
    "\n",
    "s1=input()\n",
    "vowels=\"aeiou\"\n",
    "\n",
    "\n",
    "count= sum(s1.count(vowel) for vowel in vowels)\n",
    "print(count)"
   ]
  },
  {
   "cell_type": "code",
   "execution_count": 2,
   "id": "d207d956-8577-46d9-98cb-485c618c1168",
   "metadata": {},
   "outputs": [],
   "source": [
    "#Question 3:Given a string, reverse the \n",
    "#order of characters\n",
    "#using string slicing and print the\n",
    "#reversed string\n"
   ]
  },
  {
   "cell_type": "code",
   "execution_count": 28,
   "id": "dfc24bb9-d63e-4936-ae5e-21080295fa92",
   "metadata": {},
   "outputs": [
    {
     "name": "stdout",
     "output_type": "stream",
     "text": [
      "tnemngissa\n"
     ]
    }
   ],
   "source": [
    "s1=\"assignment\"\n",
    "\n",
    "reverses1= s1[9:-11:-1]\n",
    "\n",
    "print(reverses1)"
   ]
  },
  {
   "cell_type": "code",
   "execution_count": 29,
   "id": "d95e5aba-785f-40d4-b110-2572d7f5e33d",
   "metadata": {},
   "outputs": [],
   "source": [
    "#question 4  Write a program that takes a string as\n",
    "# input and checks if it is a palindrome \n",
    "# (reads the same forwards and backwards). \n"
   ]
  },
  {
   "cell_type": "code",
   "execution_count": 35,
   "id": "3c771601-7631-4b4a-acc9-6b1894dd92eb",
   "metadata": {},
   "outputs": [
    {
     "name": "stdin",
     "output_type": "stream",
     "text": [
      "palindrome word: radar\n"
     ]
    },
    {
     "name": "stdout",
     "output_type": "stream",
     "text": [
      "('when reversed it reads as', 'radar')\n"
     ]
    }
   ],
   "source": [
    "#palindrome means the words which can be read \n",
    "#as it even from forward or backward\n",
    "\n",
    "string= input(\"palindrome word:\")\n",
    "reversestring= (\"when reversed it reads as\",string[::-1])\n",
    "\n",
    "print(reversestring)"
   ]
  },
  {
   "cell_type": "code",
   "execution_count": 45,
   "id": "794cc320-e5ed-4b93-9588-57d9ac538ce7",
   "metadata": {},
   "outputs": [
    {
     "name": "stdin",
     "output_type": "stream",
     "text": [
      " Hello world, my name is xborg\n"
     ]
    },
    {
     "name": "stdout",
     "output_type": "stream",
     "text": [
      "Helloworld,mynameisxborg\n"
     ]
    }
   ],
   "source": [
    "#Question no.5: Create a program that takes a string as \n",
    "#input and removes all the spaces from it.\n",
    "#Print the modified string without spaces. \n",
    "\n",
    "\n",
    "string= input()\n",
    "trimmedstring= string.replace(\" \",\"\")\n",
    "\n",
    "print(trimmedstring)"
   ]
  },
  {
   "cell_type": "code",
   "execution_count": 46,
   "id": "9fc84ed3-5bdd-448c-8e98-d6252b0f91e9",
   "metadata": {},
   "outputs": [],
   "source": [
    "# on the above program we used replace function instead of strip function as the requirement\n",
    "#was to remove the spaces from the user input and not from the given string"
   ]
  },
  {
   "cell_type": "code",
   "execution_count": null,
   "id": "85ba193d-7b7b-4605-a031-9652731042f4",
   "metadata": {},
   "outputs": [],
   "source": [
    "\n",
    "\n",
    "##Completion of assignment"
   ]
  }
 ],
 "metadata": {
  "kernelspec": {
   "display_name": "Python 3 (ipykernel)",
   "language": "python",
   "name": "python3"
  },
  "language_info": {
   "codemirror_mode": {
    "name": "ipython",
    "version": 3
   },
   "file_extension": ".py",
   "mimetype": "text/x-python",
   "name": "python",
   "nbconvert_exporter": "python",
   "pygments_lexer": "ipython3",
   "version": "3.10.8"
  }
 },
 "nbformat": 4,
 "nbformat_minor": 5
}
